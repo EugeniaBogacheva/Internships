{
 "cells": [
  {
   "cell_type": "code",
   "execution_count": 9,
   "metadata": {},
   "outputs": [],
   "source": [
    "import requests\n",
    "import pandas as pd\n",
    "from datetime import datetime\n",
    "import time\n",
    "from datetime import timedelta\n",
    "import pickle\n",
    "import re\n",
    "import preprocessor as p\n",
    "from nltk.corpus import stopwords\n",
    "import pymorphy2\n",
    "from gensim import corpora\n",
    "from gensim.models.ldamodel import LdaModel\n",
    "import warnings\n",
    "from sklearn.model_selection import GridSearchCV\n",
    "warnings.filterwarnings(\"ignore\")\n",
    "import numpy as np\n",
    "import matplotlib.pyplot as plt\n",
    "import collections\n",
    "from sklearn.model_selection import train_test_split\n",
    "from sklearn.feature_extraction.text import TfidfVectorizer, CountVectorizer \n",
    "from sklearn.neural_network import MLPClassifier\n",
    "from sklearn.ensemble import GradientBoostingClassifier, RandomForestClassifier\n",
    "from sklearn.svm import LinearSVC\n",
    "from sklearn.metrics import f1_score\n",
    "from IPython.display import Markdown as md"
   ]
  },
  {
   "cell_type": "markdown",
   "metadata": {},
   "source": [
    "# Part 1"
   ]
  },
  {
   "cell_type": "markdown",
   "metadata": {},
   "source": [
    "### Retrieving posts \n",
    "Posts were retrieved from the following vk groups: \n",
    "* https://vk.com/itmomagistry \n",
    "* https://vk.com/careers_service_itmo \n",
    "* https://vk.com/itmoru \n",
    "* https://vk.com/itmo_exchange \n",
    "* https://m.vk.com/scicomm)."
   ]
  },
  {
   "cell_type": "code",
   "execution_count": 217,
   "metadata": {},
   "outputs": [],
   "source": [
    "def get_posts(group):\n",
    "\n",
    "    count = 100\n",
    "    offset = 0 \n",
    "    posts = []\n",
    "    retrieved_posts = 'yes'\n",
    "    \n",
    "    while retrieved_posts:\n",
    "\n",
    "        url = 'https://api.vk.com/method/wall.get'\n",
    "        params = {\n",
    "            'domain': group,\n",
    "            'filter': 'owner',\n",
    "            'count': count,\n",
    "            'offset': offset,\n",
    "            'access_token': '8e84f1f18e84f1f18e84f1f1db8eeb68e388e848e84f1f1d0bb32bd2b9ea45a67630377',\n",
    "            'v': 5.73\n",
    "        }\n",
    "\n",
    "        retrieved_posts = requests.get(url, params = params).json()['response']['items']\n",
    "\n",
    "        posts += retrieved_posts \n",
    "        offset += count   \n",
    "        time.sleep(0.5)\n",
    "            \n",
    "    return posts"
   ]
  },
  {
   "cell_type": "code",
   "execution_count": 218,
   "metadata": {},
   "outputs": [],
   "source": [
    "groups = ['itmomagistry', 'careers_service_itmo', 'itmoru', 'itmo_exchange', 'scicomm']\n",
    "\n",
    "posts = []\n",
    "for group in groups:\n",
    "    posts += get_posts(group=group)"
   ]
  },
  {
   "cell_type": "code",
   "execution_count": 10,
   "metadata": {},
   "outputs": [],
   "source": [
    "# pickle.dump( posts, open( \"posts.p\", \"wb\" ) )\n",
    "posts = pickle.load( open( \"posts.p\", \"rb\" ) )"
   ]
  },
  {
   "cell_type": "markdown",
   "metadata": {},
   "source": [
    "### Splitting posts into old (older than a year ago) and new (later than a year ago) ones. \n",
    "The old ones will be used for training. The new ones will be used for testing. "
   ]
  },
  {
   "cell_type": "code",
   "execution_count": 11,
   "metadata": {},
   "outputs": [],
   "source": [
    "def split_train_test(posts):\n",
    "    test = []\n",
    "    train = []\n",
    "    \n",
    "    year_ago = (datetime.now()-timedelta(days=365)).timestamp()\n",
    "    \n",
    "    for post in posts:\n",
    "        if post['date'] > year_ago:\n",
    "            test.append(post)\n",
    "        else:\n",
    "            train.append(post)\n",
    "            \n",
    "    return test, train"
   ]
  },
  {
   "cell_type": "code",
   "execution_count": 12,
   "metadata": {},
   "outputs": [],
   "source": [
    "test_posts, train_posts = split_train_test(posts)"
   ]
  },
  {
   "cell_type": "code",
   "execution_count": 13,
   "metadata": {},
   "outputs": [
    {
     "data": {
      "text/markdown": [
       "We have retrieved 13586 posts.<br>11105 from them were published before February 2019. These posts will be used for training<br>2481 were published after February 2019. These posts will be used for testing"
      ],
      "text/plain": [
       "<IPython.core.display.Markdown object>"
      ]
     },
     "execution_count": 13,
     "metadata": {},
     "output_type": "execute_result"
    }
   ],
   "source": [
    "md(f'We have retrieved {len(posts)} posts.<br>{len(train_posts)} from them were published before February 2019. These posts will be used for training<br>{len(test_posts)} were published after February 2019. These posts will be used for testing')"
   ]
  },
  {
   "cell_type": "markdown",
   "metadata": {},
   "source": [
    "#### Post example"
   ]
  },
  {
   "cell_type": "code",
   "execution_count": 14,
   "metadata": {},
   "outputs": [
    {
     "data": {
      "text/plain": [
       "{'id': 3764,\n",
       " 'from_id': -54201931,\n",
       " 'owner_id': -54201931,\n",
       " 'date': 1549961199,\n",
       " 'marked_as_ads': 0,\n",
       " 'post_type': 'post',\n",
       " 'text': '✨День российской науки.\\nПрофессиональный праздник отмечается в честь основания в нашей стране Академии наук. Она была создана 295 лет назад.\\n📝 Подробности читайте по ссылке: \\nhttps://www.1tv.ru/news/2019-02-08/360076-segodnya_den_rossiyskoy_nauki',\n",
       " 'attachments': [{'type': 'video',\n",
       "   'video': {'access_key': '27143b75f5296c628d',\n",
       "    'can_comment': 0,\n",
       "    'can_like': 1,\n",
       "    'can_repost': 1,\n",
       "    'can_subscribe': 1,\n",
       "    'can_add_to_faves': 1,\n",
       "    'can_add': 1,\n",
       "    'comments': 0,\n",
       "    'date': 1549961199,\n",
       "    'description': 'Профессиональный праздник отмечается в\\xa0честь основания в\\xa0нашей стране Академии наук. Она была создана 295 лет назад.',\n",
       "    'duration': 0,\n",
       "    'photo_130': 'https://sun9-59.userapi.com/c852216/v852216335/b53c1/ADxFBZJ6jwo.jpg',\n",
       "    'photo_320': 'https://sun9-11.userapi.com/c852216/v852216335/b53c3/n1zeZST6cbU.jpg',\n",
       "    'photo_640': 'https://sun9-6.userapi.com/c852216/v852216335/b53c4/IFh5dSYKbTU.jpg',\n",
       "    'photo_800': 'https://sun9-6.userapi.com/c852216/v852216335/b53c4/IFh5dSYKbTU.jpg',\n",
       "    'id': 456239061,\n",
       "    'owner_id': -54201931,\n",
       "    'title': 'Сегодня\\xa0— День российской науки. Новости. Первый канал',\n",
       "    'track_code': 'video_7660c3f0xDoGOJ7-eAnwVlNcnKDmKhdqlelCy0pLNrdocoiaybD3EBg89f9_Dv1lYgOoldA',\n",
       "    'views': 4,\n",
       "    'local_views': 4,\n",
       "    'platform': '1tv'}}],\n",
       " 'post_source': {'type': 'vk'},\n",
       " 'comments': {'count': 0, 'can_post': 1, 'groups_can_post': True},\n",
       " 'likes': {'count': 1, 'user_likes': 0, 'can_like': 1, 'can_publish': 1},\n",
       " 'reposts': {'count': 0, 'user_reposted': 0},\n",
       " 'views': {'count': 627}}"
      ]
     },
     "execution_count": 14,
     "metadata": {},
     "output_type": "execute_result"
    }
   ],
   "source": [
    "train_posts[0]"
   ]
  },
  {
   "cell_type": "markdown",
   "metadata": {},
   "source": [
    "# Part 2 "
   ]
  },
  {
   "cell_type": "markdown",
   "metadata": {},
   "source": [
    "###  Retrieving text from posts and getting rid of duplicate posts"
   ]
  },
  {
   "cell_type": "code",
   "execution_count": 15,
   "metadata": {},
   "outputs": [],
   "source": [
    "def get_post_text(post):\n",
    "    if 'copy_history' in post:\n",
    "        text = post['copy_history'][0]['text']\n",
    "    else:\n",
    "        text = post['text']\n",
    "    return text.lower()"
   ]
  },
  {
   "cell_type": "code",
   "execution_count": 16,
   "metadata": {},
   "outputs": [],
   "source": [
    "test_texts = {get_post_text(post) for post in test_posts}\n",
    "train_texts = {get_post_text(post) for post in train_posts}"
   ]
  },
  {
   "cell_type": "code",
   "execution_count": 17,
   "metadata": {},
   "outputs": [
    {
     "data": {
      "text/markdown": [
       "Found 622 duplicate posts from test set and 101 from train set."
      ],
      "text/plain": [
       "<IPython.core.display.Markdown object>"
      ]
     },
     "execution_count": 17,
     "metadata": {},
     "output_type": "execute_result"
    }
   ],
   "source": [
    "md(f'Found {len(train_posts) - len(train_texts)} duplicate posts from test set and {len(test_posts) - len(test_texts)} from train set.')"
   ]
  },
  {
   "cell_type": "markdown",
   "metadata": {},
   "source": [
    "### Filtering out posts that mention internships, scholarships, grants etc."
   ]
  },
  {
   "cell_type": "code",
   "execution_count": 18,
   "metadata": {},
   "outputs": [],
   "source": [
    "def get_texts_by_keywords(texts, words = {'стажировк', 'стажер', 'стажёр', 'scholarship', 'стипенд', 'грант', 'intern', 'обмен'}):\n",
    "    return [text for text in texts if any(word in text for word in words)]"
   ]
  },
  {
   "cell_type": "code",
   "execution_count": 19,
   "metadata": {},
   "outputs": [],
   "source": [
    "train_texts = get_texts_by_keywords(train_texts)"
   ]
  },
  {
   "cell_type": "markdown",
   "metadata": {},
   "source": [
    "### Dumping 500 of selected posts to excel sheet in order to label them manually."
   ]
  },
  {
   "cell_type": "code",
   "execution_count": 21,
   "metadata": {},
   "outputs": [],
   "source": [
    "pd.DataFrame(zip(train_texts[:500], [0]*500)).to_excel('train.xlsx', index = False)"
   ]
  },
  {
   "cell_type": "markdown",
   "metadata": {},
   "source": [
    "# Part 3"
   ]
  },
  {
   "cell_type": "markdown",
   "metadata": {},
   "source": [
    "In the following section we'll perform text classification.\n",
    "<br>**Input**: texts of posts mentionning internships, scholarships etc. with a corresponding class (labeled manually)\n",
    "<br>**Output**: one of the following classes\n",
    "\n",
    "\n",
    "#### Classes:\n",
    "* 0 - other\n",
    "* 1 - internships\n",
    "* 3 - scholarships, grants"
   ]
  },
  {
   "cell_type": "markdown",
   "metadata": {},
   "source": [
    "### Retrieving labeled data from excel sheet."
   ]
  },
  {
   "cell_type": "code",
   "execution_count": 29,
   "metadata": {},
   "outputs": [],
   "source": [
    "df = pd.read_excel('train_part2.xlsx')\n",
    "X_not_processed = df[0]\n",
    "y = df[1]"
   ]
  },
  {
   "cell_type": "markdown",
   "metadata": {},
   "source": [
    "### Preprocessing data:\n",
    "* removing urls, emojis and numbers\n",
    "* removing punctuation signs\n",
    "* lemmatization \n",
    "* removing stopwords"
   ]
  },
  {
   "cell_type": "code",
   "execution_count": 30,
   "metadata": {},
   "outputs": [],
   "source": [
    "def preprocess(text, morph, stopwords):\n",
    "    p.set_options(p.OPT.URL, p.OPT.EMOJI, p.OPT.NUMBER)\n",
    "    text = p.clean(text)\n",
    "\n",
    "    words = [morph.parse(word)[0].normal_form for word in re.findall(r'\\w+', text)]\n",
    "    words = [word for word in words if word not in stopwords]\n",
    "    return \" \".join(words)"
   ]
  },
  {
   "cell_type": "code",
   "execution_count": 31,
   "metadata": {},
   "outputs": [],
   "source": [
    "morph = pymorphy2.MorphAnalyzer()\n",
    "# russian_stopwords = get_stop_words('ru')\n",
    "russian_stopwords = stopwords.words(\"russian\")"
   ]
  },
  {
   "cell_type": "markdown",
   "metadata": {},
   "source": [
    "#### Example\n",
    "**Before preprocessing:**"
   ]
  },
  {
   "cell_type": "code",
   "execution_count": 32,
   "metadata": {},
   "outputs": [
    {
     "data": {
      "text/plain": [
       "'как пройти собеседование на английском\\n\\nсобеседование на новую работу – непростая задача. а если вы нашли идеальную для вас вакансию в международной компании, то вас ждет еще более серьезное испытание – собеседование на иностранном языке. это может вызывать неуверенность, даже если вы отличный профессионал! [club21199653|kaplan international english] подготовил советы для вас, как подготовиться к разговору с работодателем на английском языке, и легко получить работу мечты!\\n\\nhttp://kaplaninternational.com/rus/blog/how-to-interview-in-english/'"
      ]
     },
     "execution_count": 32,
     "metadata": {},
     "output_type": "execute_result"
    }
   ],
   "source": [
    "X_not_processed[0]"
   ]
  },
  {
   "cell_type": "markdown",
   "metadata": {},
   "source": [
    "**After preprocessing:**"
   ]
  },
  {
   "cell_type": "code",
   "execution_count": 35,
   "metadata": {},
   "outputs": [
    {
     "data": {
      "text/plain": [
       "'пройти собеседование английский собеседование новый работа непростой задача найти идеальный вакансия международный компания ждать ещё серьёзный испытание собеседование иностранный язык это мочь вызывать неуверенность отличный профессионал club21199653 kaplan international english подготовить совет подготовиться разговор работодатель английский язык легко получить работа мечта'"
      ]
     },
     "execution_count": 35,
     "metadata": {},
     "output_type": "execute_result"
    }
   ],
   "source": [
    "preprocess(X_not_processed[0], morph, russian_stopwords)"
   ]
  },
  {
   "cell_type": "code",
   "execution_count": 37,
   "metadata": {},
   "outputs": [],
   "source": [
    "X = [preprocess(text, morph, russian_stopwords) for text in X_not_processed]"
   ]
  },
  {
   "cell_type": "markdown",
   "metadata": {},
   "source": [
    "### Splitting train data into training and validation sets."
   ]
  },
  {
   "cell_type": "code",
   "execution_count": 38,
   "metadata": {},
   "outputs": [],
   "source": [
    "X_train, X_val, y_train, y_val = train_test_split(X, y, test_size=0.33)"
   ]
  },
  {
   "cell_type": "markdown",
   "metadata": {},
   "source": [
    "### Choosing the best classifier"
   ]
  },
  {
   "cell_type": "code",
   "execution_count": 39,
   "metadata": {},
   "outputs": [],
   "source": [
    "vectorizers = {'TfidfVectorizer':TfidfVectorizer(), \n",
    "               'CountVectorizer':CountVectorizer()\n",
    "              }\n",
    "classifiers = {'GradientBoostingClassifier':GradientBoostingClassifier(random_state = 0), \n",
    "               'RandomForestClassifier':RandomForestClassifier(random_state = 0), \n",
    "               'LinearSVC':LinearSVC(random_state = 0), \n",
    "               'MLPClassifier':MLPClassifier(random_state = 0)}"
   ]
  },
  {
   "cell_type": "code",
   "execution_count": 40,
   "metadata": {},
   "outputs": [],
   "source": [
    "f1_scores = {}\n",
    "for vectorizer_name, vectorizer in vectorizers.items():\n",
    "    scores = {}\n",
    "    X_train_vec = vectorizer.fit_transform(X_train)\n",
    "    X_val_vec = vectorizer.transform(X_val)\n",
    "    for classifier_name, classifier in classifiers.items():\n",
    "        classifier.fit(X_train_vec, y_train)\n",
    "        predictions = classifier.predict(X_val_vec)\n",
    "        scores[classifier_name] = f1_score(y_val, predictions, average = 'weighted')\n",
    "    f1_scores[vectorizer_name] = scores"
   ]
  },
  {
   "cell_type": "markdown",
   "metadata": {},
   "source": [
    "### Classification results"
   ]
  },
  {
   "cell_type": "code",
   "execution_count": 41,
   "metadata": {},
   "outputs": [
    {
     "data": {
      "text/html": [
       "<div>\n",
       "<style scoped>\n",
       "    .dataframe tbody tr th:only-of-type {\n",
       "        vertical-align: middle;\n",
       "    }\n",
       "\n",
       "    .dataframe tbody tr th {\n",
       "        vertical-align: top;\n",
       "    }\n",
       "\n",
       "    .dataframe thead th {\n",
       "        text-align: right;\n",
       "    }\n",
       "</style>\n",
       "<table border=\"1\" class=\"dataframe\">\n",
       "  <thead>\n",
       "    <tr style=\"text-align: right;\">\n",
       "      <th></th>\n",
       "      <th>TfidfVectorizer</th>\n",
       "      <th>CountVectorizer</th>\n",
       "    </tr>\n",
       "  </thead>\n",
       "  <tbody>\n",
       "    <tr>\n",
       "      <th>GradientBoostingClassifier</th>\n",
       "      <td>0.673871</td>\n",
       "      <td>0.664512</td>\n",
       "    </tr>\n",
       "    <tr>\n",
       "      <th>LinearSVC</th>\n",
       "      <td>0.775001</td>\n",
       "      <td>0.767615</td>\n",
       "    </tr>\n",
       "    <tr>\n",
       "      <th>MLPClassifier</th>\n",
       "      <td>0.686452</td>\n",
       "      <td>0.726754</td>\n",
       "    </tr>\n",
       "    <tr>\n",
       "      <th>RandomForestClassifier</th>\n",
       "      <td>0.638984</td>\n",
       "      <td>0.634742</td>\n",
       "    </tr>\n",
       "  </tbody>\n",
       "</table>\n",
       "</div>"
      ],
      "text/plain": [
       "                            TfidfVectorizer  CountVectorizer\n",
       "GradientBoostingClassifier         0.673871         0.664512\n",
       "LinearSVC                          0.775001         0.767615\n",
       "MLPClassifier                      0.686452         0.726754\n",
       "RandomForestClassifier             0.638984         0.634742"
      ]
     },
     "execution_count": 41,
     "metadata": {},
     "output_type": "execute_result"
    }
   ],
   "source": [
    "pd.DataFrame(f1_scores)"
   ]
  },
  {
   "cell_type": "markdown",
   "metadata": {},
   "source": [
    "Looks like the most promissing results are achieved by the **GradientBoostingClassifier** together with **TfidfVectorizer**. \n",
    "<br>LinearSVC together with **TfidfVectorizer** gives a slightly worse result while being much simpler than GradientBoostingClassifier. The latter looks too sophisticated for our simple problem, so let's stick to the LinearSVC model and try to improve this model's performance by tuning hyperparameters using GridSearchCV."
   ]
  },
  {
   "cell_type": "code",
   "execution_count": 42,
   "metadata": {},
   "outputs": [],
   "source": [
    "vectorizer = TfidfVectorizer()\n",
    "X_train_vec = vectorizer.fit_transform(X_train)\n",
    "X_val_vec = vectorizer.transform(X_val)"
   ]
  },
  {
   "cell_type": "code",
   "execution_count": 43,
   "metadata": {},
   "outputs": [],
   "source": [
    "param_grid = {'C':np.arange(0.01,100,10), 'max_iter':[1, 5, 10, 50, 100]}\n",
    "gs = GridSearchCV(LinearSVC(),param_grid,cv=5,return_train_score=True)\n",
    "gs.fit(X_train_vec,y_train)\n",
    "best_parameters = gs.best_params_"
   ]
  },
  {
   "cell_type": "code",
   "execution_count": 44,
   "metadata": {},
   "outputs": [
    {
     "name": "stdout",
     "output_type": "stream",
     "text": [
      "Best parameters: {'C': 70.01, 'max_iter': 5}\n"
     ]
    }
   ],
   "source": [
    "print(f'Best parameters: {best_parameters}')"
   ]
  },
  {
   "cell_type": "code",
   "execution_count": 45,
   "metadata": {},
   "outputs": [],
   "source": [
    "clf = LinearSVC(**best_parameters, random_state = 0)\n",
    "clf.fit(X_train_vec,y_train)\n",
    "predictions = clf.predict(X_val_vec)"
   ]
  },
  {
   "cell_type": "code",
   "execution_count": 46,
   "metadata": {},
   "outputs": [],
   "source": [
    "best_f1_score = np.around(f1_score(y_val, predictions, average = 'weighted'), decimals=2)"
   ]
  },
  {
   "cell_type": "code",
   "execution_count": 47,
   "metadata": {},
   "outputs": [
    {
     "name": "stdout",
     "output_type": "stream",
     "text": [
      "F1 score of the model with tuned hyperparameters: 0.78\n"
     ]
    }
   ],
   "source": [
    "print(f'F1 score of the model with tuned hyperparameters: {best_f1_score}')"
   ]
  },
  {
   "cell_type": "markdown",
   "metadata": {},
   "source": [
    "# Part 4\n",
    "In this section we'll try to detect topics of posts about internships and about scholarships.\n",
    "<br>First, let's try to extract topics automatically using LDA model."
   ]
  },
  {
   "cell_type": "code",
   "execution_count": 48,
   "metadata": {},
   "outputs": [],
   "source": [
    "def lda(values, num_topics=3, num_words=5):\n",
    "    values = [preprocess(text, morph, russian_stopwords).split() for text in values]\n",
    "    dictionary = corpora.Dictionary(values)\n",
    "    corpus = [dictionary.doc2bow(text) for text in values]\n",
    "    ldamodel = LdaModel(corpus, num_topics, id2word=dictionary, passes=15)\n",
    "    topics = ldamodel.print_topics(num_words)\n",
    "    return topics"
   ]
  },
  {
   "cell_type": "code",
   "execution_count": 49,
   "metadata": {},
   "outputs": [],
   "source": [
    "selected_posts = {'internships': [post for post, c in zip(X_not_processed, predictions) if c == 1],\n",
    "                  'scholarships': [post for post, c in zip(X_not_processed, predictions) if c == 3]}"
   ]
  },
  {
   "cell_type": "code",
   "execution_count": 50,
   "metadata": {},
   "outputs": [
    {
     "name": "stdout",
     "output_type": "stream",
     "text": [
      "internships \n",
      "\n",
      "0 (0, '0.012*\"работа\" + 0.012*\"университет\" + 0.012*\"итмый\" + 0.010*\"свой\" + 0.009*\"компания\" + 0.009*\"собеседование\" + 0.009*\"самый\" + 0.007*\"мочь\" + 0.007*\"стипендия\" + 0.007*\"работодатель\"')\n",
      "1 (1, '0.009*\"стажировка\" + 0.009*\"cup\" + 0.009*\"получать\" + 0.009*\"получить\" + 0.009*\"компания\" + 0.009*\"информация\" + 0.009*\"инженер\" + 0.007*\"чемпионат\" + 0.007*\"кейс\" + 0.007*\"поступление\"')\n",
      "2 (2, '0.015*\"итмый\" + 0.013*\"студент\" + 0.013*\"университет\" + 0.013*\"конкурс\" + 0.011*\"участие\" + 0.009*\"стипендия\" + 0.009*\"участник\" + 0.009*\"научный\" + 0.009*\"проект\" + 0.009*\"школа\"')\n",
      "\n",
      "scholarships \n",
      "\n",
      "0 (0, '0.014*\"компания\" + 0.011*\"свой\" + 0.011*\"мероприятие\" + 0.011*\"ведущий\" + 0.011*\"стажировка\" + 0.009*\"апрель\" + 0.009*\"работа\" + 0.009*\"деловой\" + 0.009*\"студент\" + 0.006*\"это\"')\n",
      "1 (1, '0.011*\"конкурс\" + 0.011*\"участие\" + 0.011*\"студент\" + 0.011*\"проект\" + 0.011*\"стажировка\" + 0.010*\"итмый\" + 0.010*\"it\" + 0.008*\"международный\" + 0.008*\"научный\" + 0.007*\"год\"')\n",
      "2 (2, '0.014*\"студент\" + 0.013*\"курс\" + 0.010*\"английский\" + 0.010*\"международный\" + 0.010*\"университет\" + 0.010*\"магистратура\" + 0.008*\"необходимый\" + 0.008*\"программа\" + 0.008*\"доступный\" + 0.007*\"участие\"')\n",
      "\n"
     ]
    }
   ],
   "source": [
    "for type, values in selected_posts.items():\n",
    "    print(type, '\\n')\n",
    "    topics = lda(values)\n",
    "    for i, topic in enumerate(topics):\n",
    "        print(i, topic)\n",
    "    print()"
   ]
  },
  {
   "cell_type": "markdown",
   "metadata": {},
   "source": [
    "Unfortunately, there doesn't seem to be any topics that could be easily extracted by the model (even if we tune number of topics). So let's use the good old string matching to find **the most wanted skills** in the intership posts."
   ]
  },
  {
   "cell_type": "markdown",
   "metadata": {},
   "source": [
    "First, let's look at the most popular words in the posts."
   ]
  },
  {
   "cell_type": "code",
   "execution_count": 51,
   "metadata": {},
   "outputs": [
    {
     "name": "stdout",
     "output_type": "stream",
     "text": [
      "[('итмый', 17), ('университет', 14), ('студент', 11), ('компания', 11), ('стипендия', 11), ('работа', 10), ('свой', 9), ('участие', 8), ('itmo', 7), ('стажировка', 7), ('весь', 7), ('получить', 7), ('опыт', 7), ('мочь', 6), ('конкурс', 6), ('собеседование', 6), ('получать', 6), ('самый', 6), ('который', 6), ('стать', 5), ('информация', 5), ('дать', 5), ('участник', 5), ('пройти', 5), ('проект', 5), ('вопрос', 5), ('cup', 5), ('поступление', 5), ('работодатель', 5), ('международный', 4), ('направление', 4), ('инженер', 4), ('школа', 4), ('ведущий', 4), ('грант', 4), ('кейс', 4), ('чемпионат', 4), ('россия', 4), ('научный', 4), ('важный', 4), ('это', 3), ('обучающийся', 3), ('год', 3), ('принять', 3), ('дробный', 3), ('ulsee', 3), ('программа', 3), ('абитуриент', 3), ('обучение', 3), ('блокчейн', 3), ('каждый', 3), ('институт', 3), ('регистрация', 3), ('являться', 3), ('ещё', 3), ('день', 3), ('открытый', 3), ('дверь', 3), ('решение', 3), ('заявка', 3), ('право', 3), ('получение', 3), ('академический', 3), ('иметь', 3), ('задача', 3), ('именно', 3), ('крупный', 3), ('участвовать', 3), ('интервью', 3), ('учёный', 3), ('выпускник', 3), ('неделя', 3), ('магистратура', 3), ('ваш', 3), ('резюме', 3), ('несколько', 3), ('приглашение', 3), ('стоить', 3), ('рассказать', 3), ('человек', 3), ('кафедра', 3), ('00', 3), ('далее', 3), ('карта', 3), ('ноябрь', 3), ('ieee', 3), ('фотоник', 3), ('финалист', 3), ('ждать', 2), ('большой', 2), ('август', 2), ('регата', 2), ('university', 2), ('компьютерный', 2), ('зрение', 2), ('технология', 2), ('алгоритм', 2), ('обработка', 2), ('приглашать', 2), ('2', 2), ('goto', 2), ('биоинформатика', 2), ('лекция', 2), ('мастер', 2), ('класс', 2), ('октябрь', 2), ('представитель', 2), ('желающий', 2), ('выиграть', 2), ('партнёр', 2), ('пункт', 2), ('повышенный', 2), ('государственный', 2), ('достижение', 2), ('либо', 2), ('время', 2), ('магистрант', 2), ('полезный', 2), ('news', 2), ('коммуникация', 2), ('журналист', 2), ('мир', 2), ('наш', 2), ('читать', 2), ('напоминать', 2), ('полезныйчетверг', 2), ('специалист', 2), ('событие', 2), ('молодой', 2), ('подать', 2), ('отправка', 2), ('hr', 2), ('отклик', 2), ('адрес', 2), ('написать', 2), ('сопроводительный', 2), ('письмо', 2), ('позиция', 2), ('сотрудник', 2), ('почему', 2), ('интересный', 2), ('успеть', 2), ('перспектива', 2), ('место', 2), ('хороший', 2), ('рассказ', 2), ('должный', 2), ('забыть', 2), ('главное', 2), ('контакт', 2), ('сильно', 2), ('июнь', 2), ('ауд', 2), ('олимпиада', 2), ('аспирантура', 2), ('вуз', 2), ('лауреат', 2), ('престижный', 2), ('оптоинформатика', 2), ('алауди', 2), ('мария', 2), ('and', 2), ('10', 2), ('ссылка', 2), ('misis', 2), ('case', 2), ('балл', 2), ('changellenge', 2), ('spb', 2), ('бизнес', 2), ('летом', 1), ('путешествие', 1), ('май', 1), ('впервые', 1), ('парусный', 1), ('sail', 1), ('training', 1), ('international', 1), ('кандидат', 1), ('люба', 1), ('kronbars', 1), ('sailtraininginternational', 1), ('оплачивать', 1), ('сильнейший', 1), ('игрок', 1), ('мировой', 1), ('рынок', 1), ('распознавание', 1), ('лицо', 1), ('объявлять', 1), ('набор', 1), ('стажерский', 1), ('d', 1), ('изображение', 1), ('программист', 1), ('контактный', 1), ('ерастов', 1), ('полина', 1), ('polina', 1), ('com', 1)]\n"
     ]
    }
   ],
   "source": [
    "internship_texts = [preprocess(text, morph, russian_stopwords) for text in selected_posts['internships']]\n",
    "internship_words = [text.split() for text in internship_texts]\n",
    "internship_words = [item for sublist in internship_words for item in sublist]\n",
    "counter = collections.Counter(internship_words)\n",
    "print(counter.most_common(200))"
   ]
  },
  {
   "cell_type": "markdown",
   "metadata": {},
   "source": [
    "### Now let's choose the words that correspond to some programmer's skills and are relatively popular in the dataset."
   ]
  },
  {
   "cell_type": "code",
   "execution_count": 52,
   "metadata": {},
   "outputs": [],
   "source": [
    "key_words = ['java', 'c', 'python', 'javascript', 'frontend', 'backend', 'linux', 'office',\n",
    "             'bi', 'data science', 'анализ дать', 'машинный обучение', 'machine learning', 'аналитик', \n",
    "             'тестировщик', 'тестирование', 'английский', 'дизайн', 'разработка', 'разработчик', 'инженер','1с']"
   ]
  },
  {
   "cell_type": "code",
   "execution_count": 53,
   "metadata": {},
   "outputs": [],
   "source": [
    "def get_most_popular_skills(key_words, texts):\n",
    "    skills_dict = dict.fromkeys(key_words, 0)\n",
    "    for text in texts:\n",
    "        for word in key_words:\n",
    "            if word in text:\n",
    "                skills_dict[word] += 1\n",
    "    skills_dict = {skill: count for skill, count in sorted(skills_dict.items(), key=lambda item: item[1], reverse=True)}\n",
    "    return skills_dict"
   ]
  },
  {
   "cell_type": "code",
   "execution_count": 54,
   "metadata": {},
   "outputs": [
    {
     "name": "stdout",
     "output_type": "stream",
     "text": [
      "c: 7\n",
      "bi: 1\n",
      "анализ дать: 1\n",
      "машинный обучение: 1\n",
      "дизайн: 1\n",
      "инженер: 1\n",
      "java: 0\n",
      "python: 0\n",
      "javascript: 0\n",
      "frontend: 0\n",
      "backend: 0\n",
      "linux: 0\n",
      "office: 0\n",
      "data science: 0\n",
      "machine learning: 0\n",
      "аналитик: 0\n",
      "тестировщик: 0\n",
      "тестирование: 0\n",
      "английский: 0\n",
      "разработка: 0\n",
      "разработчик: 0\n",
      "1с: 0\n"
     ]
    }
   ],
   "source": [
    "skills_dict = get_most_popular_skills(key_words, internship_texts)\n",
    "for skill, count in skills_dict.items():\n",
    "    print(f'{skill}: {count}')"
   ]
  },
  {
   "cell_type": "markdown",
   "metadata": {},
   "source": [
    "# Part 5\n",
    "## Test data\n",
    "Now let's take a look at the test set, i.e. texts published before Ferbuary 2019.\n",
    "\n",
    "#### First, let's use our classifier to extract texts that announce internships and scholarships. "
   ]
  },
  {
   "cell_type": "code",
   "execution_count": 55,
   "metadata": {},
   "outputs": [],
   "source": [
    "test_texts_orig = get_texts_by_keywords(test_texts)\n",
    "test_texts = [preprocess(text, morph, russian_stopwords) for text in test_texts_orig]"
   ]
  },
  {
   "cell_type": "code",
   "execution_count": 56,
   "metadata": {},
   "outputs": [],
   "source": [
    "test_texts_vec = vectorizer.transform(test_texts)\n",
    "test_predictions = clf.predict(test_texts_vec)"
   ]
  },
  {
   "cell_type": "markdown",
   "metadata": {},
   "source": [
    "#### Now let's dump texts and our predictions to a csv file."
   ]
  },
  {
   "cell_type": "code",
   "execution_count": 57,
   "metadata": {},
   "outputs": [],
   "source": [
    "pd.DataFrame(zip(test_texts_orig, test_predictions), \n",
    "             columns = ['text', 'class']).to_csv('part_3.csv', index=False)"
   ]
  },
  {
   "cell_type": "code",
   "execution_count": 58,
   "metadata": {},
   "outputs": [],
   "source": [
    "test_internships = [post for post, c in zip(test_texts, test_predictions) if c == 1]"
   ]
  },
  {
   "cell_type": "markdown",
   "metadata": {},
   "source": [
    "#### What are the most wanted skills in 2019-2020?"
   ]
  },
  {
   "cell_type": "code",
   "execution_count": 59,
   "metadata": {},
   "outputs": [
    {
     "name": "stdout",
     "output_type": "stream",
     "text": [
      "c: 54\n",
      "английский: 16\n",
      "аналитик: 12\n",
      "разработка: 12\n",
      "bi: 11\n",
      "инженер: 11\n",
      "тестирование: 10\n",
      "разработчик: 10\n",
      "java: 7\n",
      "python: 7\n",
      "frontend: 5\n",
      "backend: 4\n",
      "data science: 3\n",
      "дизайн: 3\n",
      "javascript: 2\n",
      "linux: 2\n",
      "анализ дать: 2\n",
      "машинный обучение: 2\n",
      "тестировщик: 1\n",
      "office: 0\n",
      "machine learning: 0\n",
      "1с: 0\n"
     ]
    }
   ],
   "source": [
    "test_skills_dict = get_most_popular_skills(key_words, test_internships)\n",
    "for skill, count in test_skills_dict.items():\n",
    "    print(f'{skill}: {count}')"
   ]
  },
  {
   "cell_type": "markdown",
   "metadata": {},
   "source": [
    "### What can we tell from the data?\n",
    "* Most of the companies were looking for developers, most of them for c and c++ languages.\n",
    "* Machine Learning, python, data science, business intelligence speciallists are much more likely to find an internship in 2020 than in the previous years."
   ]
  },
  {
   "cell_type": "code",
   "execution_count": 60,
   "metadata": {},
   "outputs": [],
   "source": [
    "def get_keywords_from_text(key_words, text):\n",
    "    result = []\n",
    "    for word in key_words:\n",
    "        if word in text:\n",
    "            result.append(word)\n",
    "    return result"
   ]
  },
  {
   "cell_type": "code",
   "execution_count": 61,
   "metadata": {},
   "outputs": [],
   "source": [
    "test_internships_keywords = [get_keywords_from_text(key_words, text) for text in test_internships]"
   ]
  },
  {
   "cell_type": "markdown",
   "metadata": {},
   "source": [
    "#### Now let's dump internships texts and our predictions to a csv file."
   ]
  },
  {
   "cell_type": "code",
   "execution_count": 62,
   "metadata": {},
   "outputs": [],
   "source": [
    "test_internships_orig = [post for post, c in zip(test_texts_orig, test_predictions) if c == 1]\n",
    "pd.DataFrame(zip(test_internships_orig, test_internships_keywords), \n",
    "             columns = ['text', 'keywords']).to_csv('part_4.csv', index=False)"
   ]
  },
  {
   "cell_type": "code",
   "execution_count": null,
   "metadata": {},
   "outputs": [],
   "source": []
  }
 ],
 "metadata": {
  "kernelspec": {
   "display_name": "Python 3",
   "language": "python",
   "name": "python3"
  },
  "language_info": {
   "codemirror_mode": {
    "name": "ipython",
    "version": 3
   },
   "file_extension": ".py",
   "mimetype": "text/x-python",
   "name": "python",
   "nbconvert_exporter": "python",
   "pygments_lexer": "ipython3",
   "version": "3.7.4"
  }
 },
 "nbformat": 4,
 "nbformat_minor": 4
}
