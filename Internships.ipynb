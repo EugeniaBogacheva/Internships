{
 "cells": [
  {
   "cell_type": "code",
   "execution_count": 161,
   "metadata": {},
   "outputs": [],
   "source": [
    "import requests\n",
    "import pandas as pd\n",
    "from datetime import datetime\n",
    "import time\n",
    "from datetime import timedelta\n",
    "import pickle\n",
    "import re\n",
    "import preprocessor as p\n",
    "from nltk.corpus import stopwords\n",
    "import pymorphy2\n",
    "from gensim import corpora\n",
    "from gensim.models.ldamodel import LdaModel\n",
    "import warnings\n",
    "from sklearn.model_selection import GridSearchCV\n",
    "warnings.filterwarnings(\"ignore\")\n",
    "import numpy as np\n",
    "import matplotlib.pyplot as plt\n",
    "import collections\n",
    "from sklearn.model_selection import train_test_split\n",
    "from sklearn.feature_extraction.text import TfidfVectorizer, CountVectorizer \n",
    "from sklearn.neural_network import MLPClassifier\n",
    "from sklearn.ensemble import GradientBoostingClassifier, RandomForestClassifier\n",
    "from sklearn.svm import LinearSVC\n",
    "from sklearn.metrics import f1_score"
   ]
  },
  {
   "cell_type": "markdown",
   "metadata": {},
   "source": [
    "# Part 1"
   ]
  },
  {
   "cell_type": "markdown",
   "metadata": {},
   "source": [
    "### Retrieving posts \n",
    "Posts were retrived from the following vk grops: \n",
    "* https://vk.com/itmomagistry \n",
    "* https://vk.com/careers_service_itmo \n",
    "* https://vk.com/itmoru \n",
    "* https://vk.com/itmo_exchange \n",
    "* https://m.vk.com/scicomm)."
   ]
  },
  {
   "cell_type": "code",
   "execution_count": 217,
   "metadata": {},
   "outputs": [],
   "source": [
    "def get_posts(group):\n",
    "\n",
    "    count = 100\n",
    "    offset = 0 \n",
    "    posts = []\n",
    "    retrieved_posts = 'yes'\n",
    "    \n",
    "    while retrieved_posts:\n",
    "\n",
    "        url = 'https://api.vk.com/method/wall.get'\n",
    "        params = {\n",
    "            'domain': group,\n",
    "            'filter': 'owner',\n",
    "            'count': count,\n",
    "            'offset': offset,\n",
    "            'access_token': '8e84f1f18e84f1f18e84f1f1db8eeb68e388e848e84f1f1d0bb32bd2b9ea45a67630377',\n",
    "            'v': 5.73\n",
    "        }\n",
    "\n",
    "        retrieved_posts = requests.get(url, params = params).json()['response']['items']\n",
    "\n",
    "        posts += retrieved_posts \n",
    "        offset += count   \n",
    "        time.sleep(0.5)\n",
    "            \n",
    "    return posts"
   ]
  },
  {
   "cell_type": "code",
   "execution_count": 218,
   "metadata": {},
   "outputs": [],
   "source": [
    "groups = ['itmomagistry', 'careers_service_itmo', 'itmoru', 'itmo_exchange', 'scicomm']\n",
    "\n",
    "posts = []\n",
    "for group in groups:\n",
    "    posts += get_posts(group=group)"
   ]
  },
  {
   "cell_type": "code",
   "execution_count": 3,
   "metadata": {},
   "outputs": [],
   "source": [
    "# pickle.dump( posts, open( \"posts.p\", \"wb\" ) )\n",
    "posts = pickle.load( open( \"posts.p\", \"rb\" ) )"
   ]
  },
  {
   "cell_type": "markdown",
   "metadata": {},
   "source": [
    "### Splitting posts into old (older than a year ago) and new (later than a year ago) one. \n",
    "The old ones will be used for training. The new ones will be used for testing. "
   ]
  },
  {
   "cell_type": "code",
   "execution_count": 4,
   "metadata": {},
   "outputs": [],
   "source": [
    "def split_train_test(posts):\n",
    "    test = []\n",
    "    train = []\n",
    "    \n",
    "    year_ago = (datetime.now()-timedelta(days=365)).timestamp()\n",
    "    \n",
    "    for post in posts:\n",
    "        if post['date'] > year_ago:\n",
    "            test.append(post)\n",
    "        else:\n",
    "            train.append(post)\n",
    "            \n",
    "    return test, train"
   ]
  },
  {
   "cell_type": "code",
   "execution_count": 183,
   "metadata": {},
   "outputs": [],
   "source": [
    "test_posts, train_posts = split_train_test(posts)"
   ]
  },
  {
   "cell_type": "code",
   "execution_count": 6,
   "metadata": {},
   "outputs": [
    {
     "data": {
      "text/markdown": [
       "We have retrieved 13586 posts.<br>11095 from them were published before February 2019. These posts will be used for training<br>2491 were published after February 2019. These posts will be used for testing"
      ],
      "text/plain": [
       "<IPython.core.display.Markdown object>"
      ]
     },
     "execution_count": 6,
     "metadata": {},
     "output_type": "execute_result"
    }
   ],
   "source": [
    "md(f'We have retrieved {len(posts)} posts.<br>{len(train_posts)} from them were published before February 2019. These posts will be used for training<br>{len(test_posts)} were published after February 2019. These posts will be used for testing')"
   ]
  },
  {
   "cell_type": "markdown",
   "metadata": {},
   "source": [
    "#### Post example"
   ]
  },
  {
   "cell_type": "code",
   "execution_count": 182,
   "metadata": {},
   "outputs": [
    {
     "data": {
      "text/plain": [
       "{'id': 3763,\n",
       " 'from_id': -54201931,\n",
       " 'owner_id': -54201931,\n",
       " 'date': 1549890800,\n",
       " 'marked_as_ads': 0,\n",
       " 'post_type': 'post',\n",
       " 'text': '💡ITMO Open Science: битва мегадеканов, питчи ученых и научная выставка в крупнейшем музее современного искусства\\n📝 Подробности читайте по ссылке: http://news.ifmo.ru/ru/education/official/news/8237/',\n",
       " 'attachments': [{'type': 'link',\n",
       "   'link': {'url': 'http://news.ifmo.ru/ru/education/official/news/8237/',\n",
       "    'title': 'ITMO Open Science: битва мегадеканов, питчи ученых и научная выставка в крупнейшем музее современног',\n",
       "    'caption': 'news.ifmo.ru',\n",
       "    'description': '8 февраля, в День российской науки, Университет ИТМО провел научную конференцию в новом формате — ITMO Open Science. На протяжении дня в одном из крупнейших музеев современного искусства России «Эрарта» выступили руководители подразделений, молодые исследователи и аспиранты вуза. Ученые в нестандартном формате рассказали об актуальных достижениях в различных областях науки, а также получили возможность подробнее узнать о деятельности коллег из других подразделений. Подробнее о битве мегадеканов, научных питчах и о том, как прошел первый День науки в Университете ИТМО, в нашем материале.',\n",
       "    'photo': {'id': 456266249,\n",
       "     'album_id': -27,\n",
       "     'owner_id': 2000062960,\n",
       "     'photo_75': 'https://sun9-20.userapi.com/c844724/v844724905/19f1c9/xtBfOQzhmYE.jpg',\n",
       "     'photo_130': 'https://sun9-6.userapi.com/c844724/v844724905/19f1ca/1BNeSh5LdRM.jpg',\n",
       "     'photo_604': 'https://sun9-12.userapi.com/c844724/v844724905/19f1cb/3z-X5_7imOI.jpg',\n",
       "     'width': 150,\n",
       "     'height': 100,\n",
       "     'text': '',\n",
       "     'date': 1549890800}}}],\n",
       " 'post_source': {'type': 'vk'},\n",
       " 'comments': {'count': 0, 'can_post': 1, 'groups_can_post': True},\n",
       " 'likes': {'count': 0, 'user_likes': 0, 'can_like': 1, 'can_publish': 1},\n",
       " 'reposts': {'count': 0, 'user_reposted': 0},\n",
       " 'views': {'count': 549}}"
      ]
     },
     "execution_count": 182,
     "metadata": {},
     "output_type": "execute_result"
    }
   ],
   "source": [
    "train_posts[0]"
   ]
  },
  {
   "cell_type": "markdown",
   "metadata": {},
   "source": [
    "# Part 2 "
   ]
  },
  {
   "cell_type": "markdown",
   "metadata": {},
   "source": [
    "###  Retrieving text from posts and getting rid of duplicate posts"
   ]
  },
  {
   "cell_type": "code",
   "execution_count": 7,
   "metadata": {},
   "outputs": [],
   "source": [
    "def get_post_text(post):\n",
    "    if 'copy_history' in post:\n",
    "        text = post['copy_history'][0]['text']\n",
    "    else:\n",
    "        text = post['text']\n",
    "    return text.lower()"
   ]
  },
  {
   "cell_type": "code",
   "execution_count": 184,
   "metadata": {},
   "outputs": [],
   "source": [
    "test_texts = {get_post_text(post) for post in test_posts}\n",
    "train_texts = {get_post_text(post) for post in train_posts}"
   ]
  },
  {
   "cell_type": "code",
   "execution_count": 9,
   "metadata": {},
   "outputs": [
    {
     "data": {
      "text/markdown": [
       "Found 622 duplicate posts from test set and 101 from train set."
      ],
      "text/plain": [
       "<IPython.core.display.Markdown object>"
      ]
     },
     "execution_count": 9,
     "metadata": {},
     "output_type": "execute_result"
    }
   ],
   "source": [
    "md(f'Found {len(train_posts) - len(train_texts)} duplicate posts from test set and {len(test_posts) - len(test_texts)} from train set.')"
   ]
  },
  {
   "cell_type": "markdown",
   "metadata": {},
   "source": [
    "### Filtering out posts that mention internships, scholarships, grants etc."
   ]
  },
  {
   "cell_type": "code",
   "execution_count": 10,
   "metadata": {},
   "outputs": [],
   "source": [
    "def get_texts_by_keywords(texts, words = {'стажировк', 'стажер', 'стажёр', 'scholarship', 'стипенд', 'грант', 'intern', 'обмен'}):\n",
    "    return [text for text in texts if any(word in text for word in words)]"
   ]
  },
  {
   "cell_type": "code",
   "execution_count": 11,
   "metadata": {},
   "outputs": [],
   "source": [
    "train_texts = get_texts_by_keywords(train_texts)"
   ]
  },
  {
   "cell_type": "markdown",
   "metadata": {},
   "source": [
    "### Dumping 500 of selected posts to excel sheet in order to label them manually."
   ]
  },
  {
   "cell_type": "code",
   "execution_count": 250,
   "metadata": {},
   "outputs": [],
   "source": [
    "pd.DataFrame(zip(train_texts_final[:500], [0]*500)).to_excel('train.xlsx', index = False)"
   ]
  },
  {
   "cell_type": "markdown",
   "metadata": {},
   "source": [
    "# Part 3"
   ]
  },
  {
   "cell_type": "markdown",
   "metadata": {},
   "source": [
    "In the following section we'll perform text classification.\n",
    "<br>**Input**: texts of posts mentionning internships, scholarships etc. with a corresponding class (labeled mabually)\n",
    "<br>**Output**: one of the foolowing classes\n",
    "\n",
    "\n",
    "#### Classes:\n",
    "* 0 - other\n",
    "* 1 - internships\n",
    "* 3 - scholarships, grants"
   ]
  },
  {
   "cell_type": "markdown",
   "metadata": {},
   "source": [
    "### Retrieving labeled data from excel sheet."
   ]
  },
  {
   "cell_type": "code",
   "execution_count": 102,
   "metadata": {},
   "outputs": [],
   "source": [
    "df = pd.read_excel('train.xlsx')\n",
    "X_not_processed = df[0]\n",
    "y = df[1]"
   ]
  },
  {
   "cell_type": "markdown",
   "metadata": {},
   "source": [
    "### Preprocessing data:\n",
    "* removing urls, emojis and numbers\n",
    "* removing punctuation signs\n",
    "* lemmatization \n",
    "* removing stopwords"
   ]
  },
  {
   "cell_type": "code",
   "execution_count": 54,
   "metadata": {},
   "outputs": [],
   "source": [
    "def preprocess(text, morph, stopwords):\n",
    "    p.set_options(p.OPT.URL, p.OPT.EMOJI, p.OPT.NUMBER)\n",
    "    text = p.clean(text)\n",
    "\n",
    "    words = [morph.parse(word)[0].normal_form for word in re.findall(r'\\w+', text)]\n",
    "    words = [word for word in words if word not in stopwords]\n",
    "    return \" \".join(words)"
   ]
  },
  {
   "cell_type": "code",
   "execution_count": 55,
   "metadata": {},
   "outputs": [],
   "source": [
    "morph = pymorphy2.MorphAnalyzer()\n",
    "# russian_stopwords = get_stop_words('ru')\n",
    "russian_stopwords = stopwords.words(\"russian\")"
   ]
  },
  {
   "cell_type": "markdown",
   "metadata": {},
   "source": [
    "#### Example\n",
    "**Before preprocessing:**"
   ]
  },
  {
   "cell_type": "code",
   "execution_count": 103,
   "metadata": {},
   "outputs": [
    {
     "data": {
      "text/plain": [
       "'последняя неделя приема заявок на конкурс #gotech!\\n \\ngotech (ex – web ready) – конкурс №1 для технологических компаний c 2009 года. узнайте больше и станьте участником на www.gotech.vc \\n\\n14 номинаций, участники которых получат возможности: \\n\\n• попасть в акселерационные программы intel и google; \\n• запустить совместные go-to-market проекты с «лабораторией касперского», гк «мортон», банком «санкт-петербург», b2b-center и емс; \\n• получить гранты и инвестиции от фонда «сколково», runa capital, phystech ventures, the untitled, idealmachine и фрии; \\n• рассказать о своем проекте 100 инвесторам и 1000 участникам форума gotech; \\n• получить возможность представлять россию на web summit, slush, tech open air berlin, wolves summit, hub conference, pirate summit, seedstarsworld и других крупнейших стартап-событиях; \\n• поехать на road show в финляндию; \\n• запустить продажи продукта в сша и открыть там офис благодаря программам idm usa landing, hack temple и starta accelerator. \\n• получить оценку профессионального сообщества, привлечь интерес сми и потенциальных клиентов.'"
      ]
     },
     "execution_count": 103,
     "metadata": {},
     "output_type": "execute_result"
    }
   ],
   "source": [
    "X_not_processed[0]"
   ]
  },
  {
   "cell_type": "markdown",
   "metadata": {},
   "source": [
    "**After preprocessing:**"
   ]
  },
  {
   "cell_type": "code",
   "execution_count": 104,
   "metadata": {},
   "outputs": [
    {
     "data": {
      "text/plain": [
       "'последний неделя приём заявка конкурс gotech gotech ex web ready конкурс 1 технологический компания c год узнать большой стать участник номинация участник который получить возможность попасть акселерационный программа intel google запустить совместный go to market проект лаборатория касперский гк мортон банк санкт петербург b2b center емс получить грант инвестиция фонд сколково runa capital phystech ventures the untitled idealmachine фрий рассказать свой проект инвестор участник форум gotech получить возможность представлять россия web summit slush tech open air berlin wolves summit hub conference pirate summit seedstarsworld крупный стартап событие поехать road show финляндия запустить продажа продукт сша открыть офис благодаря программа idm usa landing hack temple starta accelerator получить оценка профессиональный сообщество привлечь интерес сми потенциальный клиент'"
      ]
     },
     "execution_count": 104,
     "metadata": {},
     "output_type": "execute_result"
    }
   ],
   "source": [
    "preprocess(X[0], morph, russian_stopwords)"
   ]
  },
  {
   "cell_type": "code",
   "execution_count": 105,
   "metadata": {},
   "outputs": [],
   "source": [
    "X = [preprocess(text, morph, russian_stopwords) for text in X]"
   ]
  },
  {
   "cell_type": "markdown",
   "metadata": {},
   "source": [
    "### Splitting train data into training and validation sets."
   ]
  },
  {
   "cell_type": "code",
   "execution_count": 59,
   "metadata": {},
   "outputs": [],
   "source": [
    "X_train, X_val, y_train, y_val = train_test_split(X, y, test_size=0.33)"
   ]
  },
  {
   "cell_type": "markdown",
   "metadata": {},
   "source": [
    "### Choosing the best classifier"
   ]
  },
  {
   "cell_type": "code",
   "execution_count": 60,
   "metadata": {},
   "outputs": [],
   "source": [
    "vectorizers = {'TfidfVectorizer':TfidfVectorizer(), \n",
    "               'CountVectorizer':CountVectorizer()\n",
    "              }\n",
    "classifiers = {'GradientBoostingClassifier':GradientBoostingClassifier(random_state = 0), \n",
    "               'RandomForestClassifier':RandomForestClassifier(random_state = 0), \n",
    "               'LinearSVC':LinearSVC(random_state = 0), \n",
    "               'MLPClassifier':MLPClassifier(random_state = 0)}"
   ]
  },
  {
   "cell_type": "code",
   "execution_count": 61,
   "metadata": {},
   "outputs": [],
   "source": [
    "f1_scores = {}\n",
    "for vectorizer_name, vectorizer in vectorizers.items():\n",
    "    scores = {}\n",
    "    X_train_vec = vectorizer.fit_transform(X_train)\n",
    "    X_val_vec = vectorizer.transform(X_val)\n",
    "    for classifier_name, classifier in classifiers.items():\n",
    "        classifier.fit(X_train_vec, y_train)\n",
    "        predictions = classifier.predict(X_val_vec)\n",
    "        scores[classifier_name] = f1_score(y_val, predictions, average = 'weighted')\n",
    "    f1_scores[vectorizer_name] = scores"
   ]
  },
  {
   "cell_type": "markdown",
   "metadata": {},
   "source": [
    "### Classification results"
   ]
  },
  {
   "cell_type": "code",
   "execution_count": 62,
   "metadata": {},
   "outputs": [
    {
     "data": {
      "text/html": [
       "<div>\n",
       "<style scoped>\n",
       "    .dataframe tbody tr th:only-of-type {\n",
       "        vertical-align: middle;\n",
       "    }\n",
       "\n",
       "    .dataframe tbody tr th {\n",
       "        vertical-align: top;\n",
       "    }\n",
       "\n",
       "    .dataframe thead th {\n",
       "        text-align: right;\n",
       "    }\n",
       "</style>\n",
       "<table border=\"1\" class=\"dataframe\">\n",
       "  <thead>\n",
       "    <tr style=\"text-align: right;\">\n",
       "      <th></th>\n",
       "      <th>TfidfVectorizer</th>\n",
       "      <th>CountVectorizer</th>\n",
       "    </tr>\n",
       "  </thead>\n",
       "  <tbody>\n",
       "    <tr>\n",
       "      <th>GradientBoostingClassifier</th>\n",
       "      <td>0.781883</td>\n",
       "      <td>0.784039</td>\n",
       "    </tr>\n",
       "    <tr>\n",
       "      <th>LinearSVC</th>\n",
       "      <td>0.811080</td>\n",
       "      <td>0.774358</td>\n",
       "    </tr>\n",
       "    <tr>\n",
       "      <th>MLPClassifier</th>\n",
       "      <td>0.779818</td>\n",
       "      <td>0.771987</td>\n",
       "    </tr>\n",
       "    <tr>\n",
       "      <th>RandomForestClassifier</th>\n",
       "      <td>0.717159</td>\n",
       "      <td>0.738743</td>\n",
       "    </tr>\n",
       "  </tbody>\n",
       "</table>\n",
       "</div>"
      ],
      "text/plain": [
       "                            TfidfVectorizer  CountVectorizer\n",
       "GradientBoostingClassifier         0.781883         0.784039\n",
       "LinearSVC                          0.811080         0.774358\n",
       "MLPClassifier                      0.779818         0.771987\n",
       "RandomForestClassifier             0.717159         0.738743"
      ]
     },
     "execution_count": 62,
     "metadata": {},
     "output_type": "execute_result"
    }
   ],
   "source": [
    "pd.DataFrame(f1_scores)"
   ]
  },
  {
   "cell_type": "markdown",
   "metadata": {},
   "source": [
    "Looks like the most promissing results are achieved by the **GradientBoostingClassifier** together with **TfidfVectorizer**. \n",
    "<br>LinearSVC together with **TfidfVectorizer** gives a slightly worse result while being much simpler than GradientBoostingClassifier. The latter looks too sophisticated for our simple problem6 so let's stick to the LinearSVC model and try to improve this model's performance by tuning hyperparameters using GridSearchCV."
   ]
  },
  {
   "cell_type": "code",
   "execution_count": 63,
   "metadata": {},
   "outputs": [],
   "source": [
    "vectorizer = TfidfVectorizer()\n",
    "X_train_vec = vectorizer.fit_transform(X_train)\n",
    "X_val_vec = vectorizer.transform(X_val)"
   ]
  },
  {
   "cell_type": "code",
   "execution_count": 66,
   "metadata": {},
   "outputs": [],
   "source": [
    "param_grid = {'C':np.arange(0.01,100,10), 'max_iter':[1, 5, 10, 50, 100]}\n",
    "gs = GridSearchCV(LinearSVC(),param_grid,cv=5,return_train_score=True)\n",
    "gs.fit(X_train_vec,y_train)\n",
    "best_parameters = gs.best_params_"
   ]
  },
  {
   "cell_type": "code",
   "execution_count": 67,
   "metadata": {},
   "outputs": [
    {
     "name": "stdout",
     "output_type": "stream",
     "text": [
      "Best parameters: {'C': 90.01, 'max_iter': 5}\n"
     ]
    }
   ],
   "source": [
    "print(f'Best parameters: {best_parameters}')"
   ]
  },
  {
   "cell_type": "code",
   "execution_count": 68,
   "metadata": {},
   "outputs": [],
   "source": [
    "clf = LinearSVC(**best_parameters, random_state = 0)\n",
    "clf.fit(X_train_vec,y_train)\n",
    "predictions = clf.predict(X_val_vec)"
   ]
  },
  {
   "cell_type": "code",
   "execution_count": 69,
   "metadata": {},
   "outputs": [],
   "source": [
    "best_f1_score = np.around(f1_score(y_val, predictions, average = 'weighted'), decimals=2)"
   ]
  },
  {
   "cell_type": "code",
   "execution_count": 70,
   "metadata": {},
   "outputs": [
    {
     "name": "stdout",
     "output_type": "stream",
     "text": [
      "F1 score of the model with tuned hyperparameters: 0.82\n"
     ]
    }
   ],
   "source": [
    "print(f'F1 score of the model with tuned hyperparameters: {best_f1_score}')"
   ]
  },
  {
   "cell_type": "markdown",
   "metadata": {},
   "source": [
    "# Part 4\n",
    "In this section we'll try to detect topics of posts about internships and about scolarships.\n",
    "<br>First, let's try to extract topics automatically using LDA model."
   ]
  },
  {
   "cell_type": "code",
   "execution_count": 99,
   "metadata": {},
   "outputs": [],
   "source": [
    "def lda(values, num_topics=3, num_words=5):\n",
    "    values = [preprocess(text, morph, russian_stopwords).split() for text in values]\n",
    "    dictionary = corpora.Dictionary(values)\n",
    "    corpus = [dictionary.doc2bow(text) for text in values]\n",
    "    ldamodel = LdaModel(corpus, num_topics, id2word=dictionary, passes=15)\n",
    "    topics = ldamodel.print_topics(num_words)\n",
    "    return topics"
   ]
  },
  {
   "cell_type": "code",
   "execution_count": 100,
   "metadata": {},
   "outputs": [],
   "source": [
    "selected_posts = {'internships': [post for post, c in zip(X_not_processed, predictions) if c == 1],\n",
    "                  'scholarships': [post for post, c in zip(X_not_processed, predictions) if c == 3]}"
   ]
  },
  {
   "cell_type": "code",
   "execution_count": 101,
   "metadata": {},
   "outputs": [
    {
     "name": "stdout",
     "output_type": "stream",
     "text": [
      "internships \n",
      "\n",
      "0 (0, '0.012*\"компания\" + 0.009*\"работа\" + 0.006*\"мочь\" + 0.006*\"получить\" + 0.005*\"собеседование\" + 0.005*\"это\" + 0.005*\"возможность\" + 0.005*\"кандидат\" + 0.005*\"тестирование\" + 0.005*\"год\"')\n",
      "1 (1, '0.018*\"стажировка\" + 0.015*\"итмый\" + 0.012*\"университет\" + 0.011*\"студент\" + 0.011*\"компания\" + 0.009*\"конкурс\" + 0.008*\"itmo\" + 0.008*\"программа\" + 0.007*\"год\" + 0.006*\"участие\"')\n",
      "2 (2, '0.010*\"студент\" + 0.009*\"карта\" + 0.009*\"банковский\" + 0.008*\"компания\" + 0.007*\"сентябрь\" + 0.007*\"факультет\" + 0.006*\"стипендия\" + 0.006*\"0\" + 0.006*\"дать\" + 0.005*\"технология\"')\n",
      "\n",
      "scholarships \n",
      "\n",
      "0 (0, '0.010*\"год\" + 0.006*\"стажировка\" + 0.006*\"it\" + 0.005*\"карьер\" + 0.005*\"ru\" + 0.005*\"конкурс\" + 0.005*\"00\" + 0.005*\"информация\" + 0.005*\"вакансия\" + 0.005*\"ярмарка\"')\n",
      "1 (1, '0.011*\"компания\" + 0.009*\"который\" + 0.008*\"работа\" + 0.007*\"конкурс\" + 0.006*\"вопрос\" + 0.005*\"свой\" + 0.005*\"весь\" + 0.005*\"пройти\" + 0.005*\"ваш\" + 0.004*\"дать\"')\n",
      "2 (2, '0.014*\"студент\" + 0.010*\"стажировка\" + 0.008*\"университет\" + 0.007*\"программа\" + 0.007*\"проект\" + 0.007*\"свой\" + 0.006*\"итмый\" + 0.006*\"карта\" + 0.006*\"заявка\" + 0.005*\"university\"')\n",
      "\n"
     ]
    }
   ],
   "source": [
    "for type, values in selected_posts.items():\n",
    "    print(type, '\\n')\n",
    "    topics = lda(values)\n",
    "    for i, topic in enumerate(topics):\n",
    "        print(i, topic)\n",
    "    print()"
   ]
  },
  {
   "cell_type": "markdown",
   "metadata": {},
   "source": [
    "Unfortunately, there there doesn't seem to be any topics that could be easily extracted by the model (even if we tune number of topics). So let's use the good old string matching to find **the most wanted skills** in the intership posts."
   ]
  },
  {
   "cell_type": "markdown",
   "metadata": {},
   "source": [
    "First, let's look at the most popular words in the posts."
   ]
  },
  {
   "cell_type": "code",
   "execution_count": 140,
   "metadata": {},
   "outputs": [
    {
     "name": "stdout",
     "output_type": "stream",
     "text": [
      "[('компания', 56), ('стажировка', 52), ('студент', 44), ('итмый', 41), ('университет', 31), ('работа', 29), ('конкурс', 26), ('год', 25), ('свой', 24), ('это', 24), ('программа', 23), ('itmo', 23), ('получить', 22), ('возможность', 20), ('курс', 20), ('весь', 19), ('проект', 18), ('участие', 18), ('стипендия', 17), ('мочь', 16), ('информация', 15), ('заявка', 14), ('который', 14), ('обучение', 14), ('пройти', 14), ('вопрос', 14), ('команда', 14), ('время', 14), ('резюме', 14), ('россия', 13), ('также', 13), ('собеседование', 13), ('технология', 12), ('специалист', 12), ('регистрация', 12), ('сентябрь', 12), ('карта', 12), ('петербург', 11), ('грант', 11), ('открытый', 11), ('язык', 11), ('система', 11), ('проходить', 11), ('кандидат', 11), ('банковский', 11), ('приглашать', 10), ('наш', 10), ('российский', 10), ('дать', 10), ('научный', 10), ('апрель', 10), ('факультет', 10), ('хороший', 10), ('приём', 9), ('санкт', 9), ('крупный', 9), ('офис', 9), ('ведущий', 9), ('развитие', 9), ('принять', 9), ('страна', 9), ('необходимый', 9), ('центр', 9), ('вакансия', 9), ('тестирование', 9), ('00', 9), ('отбор', 9), ('встреча', 9), ('0', 9), ('узнать', 8), ('участник', 8), ('выпускник', 8), ('карьерный', 8), ('международный', 8), ('исследование', 8), ('хотеть', 8), ('английский', 8), ('каждый', 8), ('адрес', 8), ('ru', 8), ('it', 8), ('решение', 8), ('самый', 8), ('мероприятие', 8), ('человек', 8), ('знание', 8), ('подробность', 8), ('лаборатория', 7), ('направление', 7), ('вуз', 7), ('работать', 7), ('выбрать', 7), ('условие', 7), ('форма', 7), ('документ', 7), ('образование', 7), ('ваш', 7), ('дробный', 7), ('китай', 7), ('бизнес', 7), ('смочь', 7), ('представитель', 7), ('university', 7), ('аспирант', 7), ('летний', 7), ('ссылка', 7), ('рассказать', 6), ('событие', 6), ('профессиональный', 6), ('сфера', 6), ('магистрант', 6), ('кафедра', 6), ('магистратура', 6), ('бакалавриат', 6), ('февраль', 6), ('задача', 6), ('уважение', 6), ('careersservice', 6), ('жизнь', 6), ('найти', 6), ('именно', 6), ('полезныйчетверг', 6), ('день', 6), ('подготовка', 6), ('разработка', 6), ('уровень', 6), ('информационный', 6), ('важный', 6), ('партнёр', 6), ('финал', 6), ('банка', 6), ('наука', 6), ('область', 6), ('внимание', 6), ('научно', 6), ('последний', 5), ('gotech', 5), ('большой', 5), ('фонд', 5), ('вместе', 5), ('использовать', 5), ('помощь', 5), ('получение', 5), ('группа', 5), ('письмо', 5), ('процесс', 5), ('начать', 5), ('отдел', 5), ('стажер', 5), ('шаг', 5), ('набор', 5), ('написать', 5), ('коммуникация', 5), ('стоить', 5), ('октябрь', 5), ('java', 5), ('школа', 5), ('опыт', 5), ('лекция', 5), ('навык', 5), ('трудоустройство', 5), ('московский', 5), ('исследовательский', 5), ('рекрутер', 5), ('будущий', 5), ('ответ', 5), ('компетенция', 5), ('прохождение', 5), ('тест', 5), ('получать', 5), ('уникальный', 5), ('поиск', 5), ('ждать', 5), ('институт', 5), ('лето', 5), ('заявление', 5), ('тренинг', 5), ('паспорт', 5), ('технологический', 4), ('стать', 4), ('попасть', 4), ('the', 4), ('форум', 4), ('оценка', 4), ('danone', 4), ('производство', 4), ('мир', 4), ('контакт', 4), ('страница', 4), ('должный', 4), ('читать', 4), ('news', 4), ('обмен', 4), ('указать', 4), ('мотивационный', 4), ('свободный', 4), ('поэтому', 4), ('март', 4), ('электронный', 4), ('ifmo', 4)]\n"
     ]
    }
   ],
   "source": [
    "internship_texts = [preprocess(text, morph, russian_stopwords) for text in selected_posts['internships']]\n",
    "internship_words = [text.split() for text in internship_texts]\n",
    "internship_words = [item for sublist in internship_words for item in sublist]\n",
    "counter = collections.Counter(internship_words)\n",
    "print(counter.most_common(200))"
   ]
  },
  {
   "cell_type": "markdown",
   "metadata": {},
   "source": [
    "### Now let's choose the words that correspond to some programmer's skills and are relatively popular in dataset."
   ]
  },
  {
   "cell_type": "code",
   "execution_count": 127,
   "metadata": {},
   "outputs": [],
   "source": [
    "key_words = ['java', 'c', 'python', 'javascript', 'frontend', 'backend', 'linux', 'office',\n",
    "             'bi', 'data science', 'анализ дать', 'машинный обучение', 'machine learning', 'аналитик', \n",
    "             'тестировщик', 'тестирование', 'английский', 'дизайн', 'разработка', 'разработчик', 'инженер','1с']"
   ]
  },
  {
   "cell_type": "code",
   "execution_count": 169,
   "metadata": {},
   "outputs": [],
   "source": [
    "def get_most_popular_skills(key_words, texts):\n",
    "    skills_dict = dict.fromkeys(key_words, 0)\n",
    "    for text in texts:\n",
    "        for word in key_words:\n",
    "            if word in text:\n",
    "                skills_dict[word] += 1\n",
    "    skills_dict = {skill: count for skill, count in sorted(skills_dict.items(), key=lambda item: item[1], reverse=True)}\n",
    "    return skills_dict"
   ]
  },
  {
   "cell_type": "code",
   "execution_count": 174,
   "metadata": {},
   "outputs": [
    {
     "name": "stdout",
     "output_type": "stream",
     "text": [
      "c: 28\n",
      "разработка: 5\n",
      "английский: 4\n",
      "java: 3\n",
      "аналитик: 3\n",
      "тестирование: 3\n",
      "инженер: 3\n",
      "тестировщик: 2\n",
      "дизайн: 2\n",
      "разработчик: 2\n",
      "python: 1\n",
      "linux: 1\n",
      "bi: 1\n",
      "javascript: 0\n",
      "frontend: 0\n",
      "backend: 0\n",
      "office: 0\n",
      "data science: 0\n",
      "анализ дать: 0\n",
      "машинный обучение: 0\n",
      "machine learning: 0\n",
      "1с: 0\n"
     ]
    }
   ],
   "source": [
    "skills_dict = get_most_popular_skills(key_words, internship_texts)\n",
    "for skill, count in skills_dict.items():\n",
    "    print(f'{skill}: {count}')"
   ]
  },
  {
   "cell_type": "markdown",
   "metadata": {},
   "source": [
    "# Part 5\n",
    "## Test data\n",
    "Now let's take a look at the test set, i.e. texts published before Ferbuary 2019.\n",
    "\n",
    "#### First, let's use our classifier to extract texts that announce internships and scholarships. "
   ]
  },
  {
   "cell_type": "code",
   "execution_count": 185,
   "metadata": {},
   "outputs": [],
   "source": [
    "test_texts_orig = get_texts_by_keywords(test_texts)\n",
    "test_texts = [preprocess(text, morph, russian_stopwords) for text in test_texts_orig]"
   ]
  },
  {
   "cell_type": "code",
   "execution_count": 165,
   "metadata": {},
   "outputs": [],
   "source": [
    "test_texts_vec = vectorizer.transform(test_texts)\n",
    "test_predictions = clf.predict(test_texts_vec)"
   ]
  },
  {
   "cell_type": "markdown",
   "metadata": {},
   "source": [
    "#### Now let's dump texts and our predictions to a csv file."
   ]
  },
  {
   "cell_type": "code",
   "execution_count": 195,
   "metadata": {},
   "outputs": [],
   "source": [
    "pd.DataFrame(zip(test_texts_orig, test_predictions), columns = ['text', 'class']).to_csv('part_3.csv')"
   ]
  },
  {
   "cell_type": "code",
   "execution_count": 166,
   "metadata": {},
   "outputs": [],
   "source": [
    "test_internships = [post for post, c in zip(test_texts, test_predictions) if c == 1]"
   ]
  },
  {
   "cell_type": "markdown",
   "metadata": {},
   "source": [
    "#### What are the most wanted skills in 2019-2020?"
   ]
  },
  {
   "cell_type": "code",
   "execution_count": 173,
   "metadata": {},
   "outputs": [
    {
     "name": "stdout",
     "output_type": "stream",
     "text": [
      "c: 55\n",
      "аналитик: 13\n",
      "разработчик: 13\n",
      "инженер: 13\n",
      "английский: 12\n",
      "разработка: 12\n",
      "тестирование: 11\n",
      "bi: 9\n",
      "java: 8\n",
      "python: 7\n",
      "frontend: 6\n",
      "backend: 4\n",
      "javascript: 3\n",
      "linux: 3\n",
      "дизайн: 3\n",
      "data science: 2\n",
      "машинный обучение: 2\n",
      "анализ дать: 1\n",
      "тестировщик: 1\n",
      "office: 0\n",
      "machine learning: 0\n",
      "1с: 0\n"
     ]
    }
   ],
   "source": [
    "test_skills_dict = get_most_popular_skills(key_words, test_internships)\n",
    "for skill, count in test_skills_dict.items():\n",
    "    print(f'{skill}: {count}')"
   ]
  },
  {
   "cell_type": "markdown",
   "metadata": {},
   "source": [
    "### What can we tell from the data?\n",
    "* Most of the companies were looking for developpers, most of them for c and c++ languages.\n",
    "* Machine Learning, python, data science, business intelligence speciallists are much more lickely to find an internship in 2020 tham in the previous years."
   ]
  },
  {
   "cell_type": "code",
   "execution_count": 187,
   "metadata": {},
   "outputs": [],
   "source": [
    "def get_keywords_from_text(key_words, text):\n",
    "    result = []\n",
    "    for word in key_words:\n",
    "        if word in text:\n",
    "            result.append(word)\n",
    "    return result"
   ]
  },
  {
   "cell_type": "code",
   "execution_count": 192,
   "metadata": {},
   "outputs": [],
   "source": [
    "test_internships_keywords = [get_keywords_from_text(key_words, text) for text in test_internships]"
   ]
  },
  {
   "cell_type": "markdown",
   "metadata": {},
   "source": [
    "#### Now let's dump internships texts and our predictions to a csv file."
   ]
  },
  {
   "cell_type": "code",
   "execution_count": 197,
   "metadata": {},
   "outputs": [],
   "source": [
    "pd.DataFrame(zip(test_internships, test_internships_keywords), columns = ['text', 'keywords']).to_csv('part_4.csv')"
   ]
  }
 ],
 "metadata": {
  "kernelspec": {
   "display_name": "Python 3",
   "language": "python",
   "name": "python3"
  },
  "language_info": {
   "codemirror_mode": {
    "name": "ipython",
    "version": 3
   },
   "file_extension": ".py",
   "mimetype": "text/x-python",
   "name": "python",
   "nbconvert_exporter": "python",
   "pygments_lexer": "ipython3",
   "version": "3.7.4"
  }
 },
 "nbformat": 4,
 "nbformat_minor": 4
}
